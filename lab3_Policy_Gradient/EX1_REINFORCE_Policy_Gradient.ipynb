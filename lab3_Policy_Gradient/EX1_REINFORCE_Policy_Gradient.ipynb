{
  "cells": [
    {
      "cell_type": "markdown",
      "metadata": {
        "id": "view-in-github",
        "colab_type": "text"
      },
      "source": [
        "<a href=\"https://colab.research.google.com/github/AdelCSE/AdelCSE/blob/main/lab3_Policy_Gradient/EX1_REINFORCE_Policy_Gradient.ipynb\" target=\"_parent\"><img src=\"https://colab.research.google.com/assets/colab-badge.svg\" alt=\"Open In Colab\"/></a>"
      ]
    },
    {
      "cell_type": "markdown",
      "metadata": {
        "collapsed": false,
        "id": "SEsy74FhQ1so"
      },
      "source": [
        "# Reinforce  Monte Carlo Algorithm\n",
        "In this notebook, you'll code The Reinforce (also called Monte Carlo Policy Gradient) algorithm  from scratch: .\n",
        "\n",
        "Reinforce is a *Policy-based method*: a Deep Reinforcement Learning algorithm that tries **to optimize the policy directly without using an action-value function**.\n",
        "\n",
        "More precisely, Reinforce is a *Policy-gradient method*, a subclass of *Policy-based methods* that aims **to optimize the policy directly by estimating the weights of the optimal policy using gradient ascent**.\n",
        "\n",
        "To test its robustness, we're going to train it in Cartpole-v1 environment"
      ]
    },
    {
      "cell_type": "code",
      "source": [
        "!pip install gymnasium"
      ],
      "metadata": {
        "id": "G4ahTejmQ4wC",
        "outputId": "ce16f57d-4feb-4e52-c80a-98949930e5b1",
        "colab": {
          "base_uri": "https://localhost:8080/"
        }
      },
      "execution_count": 1,
      "outputs": [
        {
          "output_type": "stream",
          "name": "stdout",
          "text": [
            "Collecting gymnasium\n",
            "  Downloading gymnasium-1.0.0-py3-none-any.whl.metadata (9.5 kB)\n",
            "Requirement already satisfied: numpy>=1.21.0 in /usr/local/lib/python3.10/dist-packages (from gymnasium) (1.26.4)\n",
            "Requirement already satisfied: cloudpickle>=1.2.0 in /usr/local/lib/python3.10/dist-packages (from gymnasium) (3.1.0)\n",
            "Requirement already satisfied: typing-extensions>=4.3.0 in /usr/local/lib/python3.10/dist-packages (from gymnasium) (4.12.2)\n",
            "Collecting farama-notifications>=0.0.1 (from gymnasium)\n",
            "  Downloading Farama_Notifications-0.0.4-py3-none-any.whl.metadata (558 bytes)\n",
            "Downloading gymnasium-1.0.0-py3-none-any.whl (958 kB)\n",
            "\u001b[2K   \u001b[90m━━━━━━━━━━━━━━━━━━━━━━━━━━━━━━━━━━━━━━━━\u001b[0m \u001b[32m958.1/958.1 kB\u001b[0m \u001b[31m12.8 MB/s\u001b[0m eta \u001b[36m0:00:00\u001b[0m\n",
            "\u001b[?25hDownloading Farama_Notifications-0.0.4-py3-none-any.whl (2.5 kB)\n",
            "Installing collected packages: farama-notifications, gymnasium\n",
            "Successfully installed farama-notifications-0.0.4 gymnasium-1.0.0\n"
          ]
        }
      ]
    },
    {
      "cell_type": "markdown",
      "metadata": {
        "collapsed": false,
        "id": "Oa1ZT0-uQ1sw"
      },
      "source": [
        "## Import the packages"
      ]
    },
    {
      "cell_type": "code",
      "execution_count": 2,
      "metadata": {
        "id": "vm5cuDY1Q1sx"
      },
      "outputs": [],
      "source": [
        "import numpy as np\n",
        "import pandas as pd\n",
        "from collections import deque\n",
        "import matplotlib.pyplot as plt\n",
        "import imageio\n",
        "\n",
        "# PyTorch\n",
        "import torch\n",
        "import torch.nn as nn\n",
        "import torch.nn.functional as F\n",
        "import torch.optim as optim\n",
        "from torch.distributions import Categorical\n",
        "from IPython.display import Video\n",
        "\n",
        "# Gym\n",
        "import gymnasium as gym"
      ]
    },
    {
      "cell_type": "markdown",
      "metadata": {
        "collapsed": false,
        "id": "aDw8-RV_Q1sz"
      },
      "source": [
        "## Check if we have a GPU\n",
        "- Let's check if we have a GPU `device:cuda0`"
      ]
    },
    {
      "cell_type": "code",
      "execution_count": 3,
      "metadata": {
        "id": "D1bpQ-VxQ1s2"
      },
      "outputs": [],
      "source": [
        "device = torch.device(\"cuda:0\" if torch.cuda.is_available() else \"cpu\")"
      ]
    },
    {
      "cell_type": "markdown",
      "metadata": {
        "collapsed": false,
        "id": "BrZ8fdmQQ1s3"
      },
      "source": [
        "# Agent: Playing CartPole-v1 🤖\n",
        "### The CartPole-v1 environment\n",
        "\n",
        "> A pole is attached by an un-actuated joint to a cart, which moves along a frictionless track. The pendulum is placed upright on the cart and the goal is to balance the pole by applying forces in the left and right direction on the cart.\n",
        "\n",
        "So, we start with CartPole-v1. The goal is to push the cart left or right **so that the pole stays in the equilibrium.**\n",
        "\n",
        "The episode ends if:\n",
        "- The pole Angle is greater than ±12°\n",
        "- Cart Position is greater than ±2.4\n",
        "- Episode length is greater than 500\n",
        "\n",
        "We get a reward 💰 of +1 every timestep the Pole stays in the equilibrium."
      ]
    },
    {
      "cell_type": "code",
      "execution_count": 4,
      "metadata": {
        "id": "Qq5688QtQ1s4"
      },
      "outputs": [],
      "source": [
        "env_id = \"CartPole-v1\"\n",
        "# Create the env\n",
        "env = gym.make(env_id)\n",
        "\n",
        "# Create the evaluation env\n",
        "eval_env = gym.make(env_id)\n",
        "\n",
        "# Get the state space and action space\n",
        "s_size = env.observation_space.shape[0]\n",
        "a_size = env.action_space.n"
      ]
    },
    {
      "cell_type": "code",
      "execution_count": 5,
      "metadata": {
        "id": "RCzL8x6JQ1s5",
        "outputId": "0c81f00d-dddd-4d0c-d879-5c9032a4172f",
        "colab": {
          "base_uri": "https://localhost:8080/"
        }
      },
      "outputs": [
        {
          "output_type": "stream",
          "name": "stdout",
          "text": [
            "_____OBSERVATION SPACE_____ \n",
            "\n",
            "The State Space is:  4\n",
            "Sample observation [-2.5740843  -0.39613447 -0.2505108  -0.8181447 ]\n"
          ]
        }
      ],
      "source": [
        "print(\"_____OBSERVATION SPACE_____ \\n\")\n",
        "print(\"The State Space is: \", s_size)\n",
        "print(\"Sample observation\", env.observation_space.sample()) # Get a random observation"
      ]
    },
    {
      "cell_type": "code",
      "execution_count": 6,
      "metadata": {
        "id": "P_RDf_dMQ1s6",
        "outputId": "071583be-2e6f-4916-e3c9-8fd68e97737e",
        "colab": {
          "base_uri": "https://localhost:8080/"
        }
      },
      "outputs": [
        {
          "output_type": "stream",
          "name": "stdout",
          "text": [
            "\n",
            " _____ACTION SPACE_____ \n",
            "\n",
            "The Action Space is:  2\n",
            "Action Space Sample 0\n"
          ]
        }
      ],
      "source": [
        "print(\"\\n _____ACTION SPACE_____ \\n\")\n",
        "print(\"The Action Space is: \", a_size)\n",
        "print(\"Action Space Sample\", env.action_space.sample()) # Take a random action"
      ]
    },
    {
      "cell_type": "markdown",
      "metadata": {
        "collapsed": false,
        "id": "OyCY7UV2Q1s7"
      },
      "source": [
        "## Let's build the Reinforce Architecture\n",
        "<img src=\"https://huggingface.co/datasets/huggingface-deep-rl-course/course-images/resolve/main/en/unit6/reinforce.png\" alt=\"Reinforce\"/>"
      ]
    },
    {
      "cell_type": "markdown",
      "metadata": {
        "collapsed": false,
        "id": "mP80aSFBQ1s7"
      },
      "source": [
        "So we want:\n",
        "- Two fully connected layers (fc1 and fc2).\n",
        "- Using ReLU as activation function of fc1\n",
        "- Using Softmax to output a probability distribution over actions"
      ]
    },
    {
      "cell_type": "code",
      "execution_count": 21,
      "metadata": {
        "id": "RiquF9VDQ1s9"
      },
      "outputs": [],
      "source": [
        "class Policy(nn.Module):\n",
        "    def __init__(self, s_size, a_size, h_size):\n",
        "        super(Policy, self).__init__()\n",
        "        self.fc1 = nn.Linear(s_size, h_size)\n",
        "        self.fc2 = nn.Linear(h_size, a_size)\n",
        "\n",
        "    def forward(self, x):\n",
        "        x = F.relu(self.fc1(x))\n",
        "        x = self.fc2(x)\n",
        "        return F.softmax(x, dim=-1)\n",
        "\n",
        "    def act(self, state):\n",
        "        state = torch.tensor(state).float().unsqueeze(0).to(device)\n",
        "        probs = self.forward(state).cpu()\n",
        "        m = Categorical(probs)\n",
        "        action = m.sample()\n",
        "        return action.item(), m.log_prob(action)\n",
        "\n",
        "\n",
        "    def act_deterministic(self, state):\n",
        "        state = torch.tensor(state).float().unsqueeze(0).to(device)\n",
        "        probs = self.forward(state).cpu()\n",
        "        action = torch.argmax(probs)\n",
        "        return action.item()"
      ]
    },
    {
      "cell_type": "markdown",
      "metadata": {
        "collapsed": false,
        "id": "UiPcYdNuQ1s9"
      },
      "source": [
        "- Since **we want to sample an action from the probability distribution over actions (i.e., Stochastic policy)**, we can't use `action = np.argmax(m)` since it will always output the action that have the highest probability.\n",
        "\n",
        "- We need to replace with `action = m.sample()` that will sample an action from the probability distribution P(.|s)"
      ]
    },
    {
      "cell_type": "markdown",
      "metadata": {
        "collapsed": false,
        "id": "05DTjWgKQ1s9"
      },
      "source": [
        "### Let's build the Reinforce Training Algorithm\n",
        "This is the Reinforce algorithm pseudocode:\n",
        "<img src=\"https://github.com/malkiAbdelhamid/Advanced-Deep-Learning-2023-2024-esisba/blob/master/lab3_Policy_Gradient/Reinforce_algo.png?raw=true\" alt=\"Policy gradient pseudocode\"/>"
      ]
    },
    {
      "cell_type": "markdown",
      "metadata": {
        "collapsed": false,
        "id": "Dtd4jQ1HQ1s-"
      },
      "source": [
        "# Building the parts of our algorithm #\n",
        "The main steps for building a Reinforce Algo are:\n",
        "1. Generates a trajectory (Line 3)\n",
        "2. Compute the discounted returns (Lines 4 & 5)\n",
        "3. Standardization of the returns\n",
        "4. Calculate current loss (objective function $J(\\theta)$) and estimate the gradient (Lines 6 & 7)\n",
        "5. Update parameters (Line 8)\n",
        "\n"
      ]
    },
    {
      "cell_type": "markdown",
      "metadata": {
        "collapsed": false,
        "id": "u3C7VQ9IQ1s-"
      },
      "source": [
        "### Line 3 of pseudocode\n",
        "Based on the policy, the method **generate_trajectory(policy, max_t)** generates a trajectory and return two lists:\n",
        "  - saved_log_probs: the log probability of each action in the trajectory\n",
        "  - rewards: the list of the obtained rewards"
      ]
    },
    {
      "cell_type": "code",
      "execution_count": 8,
      "metadata": {
        "id": "kfoF5iVyQ1s-"
      },
      "outputs": [],
      "source": [
        "def generate_trajectory(policy : Policy, max_t : int):\n",
        "\n",
        "    saved_log_probs = []\n",
        "    rewards = []\n",
        "    state,_ = env.reset()\n",
        "\n",
        "    for t in range(max_t):\n",
        "\n",
        "        action, log_prob = policy.act(state)\n",
        "\n",
        "        # add the obtained probability to saved_log_probs list\n",
        "        saved_log_probs.append(log_prob)\n",
        "\n",
        "        # apply the action on the env\n",
        "        state,reward,done,_,_  = env.step(action=action)\n",
        "\n",
        "        # add the obtained rewards to rewards list\n",
        "        rewards.append(reward)\n",
        "\n",
        "        if done:\n",
        "            break\n",
        "\n",
        "    return saved_log_probs, rewards"
      ]
    },
    {
      "cell_type": "markdown",
      "metadata": {
        "collapsed": false,
        "id": "Otvby8lRQ1s-"
      },
      "source": [
        " ### Lines 4 & 5 of pseudocode\n",
        " the method **computer_cumulative_reward(rewards,max_t,gamma)** Compute the discounted returns at each timestep, as the sum of the gamma-discounted return at time t (G_t) + the reward at time t"
      ]
    },
    {
      "cell_type": "code",
      "execution_count": 9,
      "metadata": {
        "id": "8i9NM0tCQ1s_"
      },
      "outputs": [],
      "source": [
        "# Line 6 of pseudocode: calculate the return\n",
        "\n",
        "def computer_cumulative_reward(rewards : list[float],max_t : int,gamma : float):\n",
        "\n",
        "    ## we calculate the returns at timestep t as:\n",
        "    #           G_(t)= reward[t] + gamma * G_(t+1)\n",
        "    #\n",
        "    ## We compute this starting from the last timestep to the first, in order\n",
        "    ## to employ the formula presented above and avoid redundant computations that would be needed\n",
        "    ## if we were to do it from first to last.\n",
        "\n",
        "    ## Hence, the queue \"returns\" will hold the returns in chronological order, from t=0 to t=n_steps\n",
        "    ## thanks to the appendleft() function which allows to append to the position 0 in constant time O(1)\n",
        "    ## a normal python list would instead require O(N) to do this.\n",
        "\n",
        "    returns = deque(maxlen=max_t)\n",
        "    n_steps = len(rewards)\n",
        "\n",
        "    for t in range(n_steps - 1, -1, -1):\n",
        "\n",
        "        disc_return_t = (returns[0] if len(returns) > 0 else 0)\n",
        "        returns.appendleft(rewards[t] + gamma * disc_return_t)\n",
        "\n",
        "    return returns"
      ]
    },
    {
      "cell_type": "markdown",
      "metadata": {
        "collapsed": false,
        "id": "Pgq0B29vQ1s_"
      },
      "source": [
        "### standardization of the returns\n",
        "- is employed to make training more stable\n"
      ]
    },
    {
      "cell_type": "code",
      "execution_count": 10,
      "metadata": {
        "id": "kmBOQ049Q1s_"
      },
      "outputs": [],
      "source": [
        "def returns_standardization(returns):\n",
        "\n",
        "    eps = np.finfo(np.float32).eps.item()\n",
        "    returns = torch.tensor(returns)\n",
        "    returns = (returns - returns.mean()) / (returns.std() + eps)\n",
        "\n",
        "    return returns"
      ]
    },
    {
      "cell_type": "markdown",
      "metadata": {
        "collapsed": false,
        "id": "80OARCP-Q1s_"
      },
      "source": [
        " ### Line 6, 7 & 8 of pseudocode\n",
        "**why do we minimize the loss**? You talked about Gradient Ascent not Gradient Descent?\n",
        "\n",
        "- We want to maximize our utility function $J(\\theta)$ but in PyTorch like in Tensorflow it's better to **minimize an objective function.**\n",
        "    - So let's say we want to reinforce action 3 at a certain timestep. Before training this action P is 0.25.\n",
        "    - So we want to modify $\\theta$ such that $\\pi_\\theta(a_3|s; \\theta) > 0.25$\n",
        "    - Because all P must sum to 1, max $\\pi_\\theta(a_3|s; \\theta)$ will **minimize other action probability.**\n",
        "    - So we should tell PyTorch **to min $1 - \\pi_\\theta(a_3|s; \\theta)$.**\n",
        "    - This loss function approaches 0 as $\\pi_\\theta(a_3|s; \\theta)$ nears 1.\n",
        "    - So we are encouraging the gradient to max $\\pi_\\theta(a_3|s; \\theta)$"
      ]
    },
    {
      "cell_type": "code",
      "execution_count": 11,
      "metadata": {
        "id": "e2zbbtf9Q1s_"
      },
      "outputs": [],
      "source": [
        "def compute_loss_and_train_policy(optimizer, saved_log_probs, returns):\n",
        "\n",
        "    # Line 6\n",
        "    policy_loss = []\n",
        "\n",
        "    for log_prob, disc_return in zip(saved_log_probs, returns):\n",
        "\n",
        "        #------add code here--------#\n",
        "        policy_loss.append(-log_prob * disc_return)\n",
        "\n",
        "    policy_loss = torch.cat(policy_loss).sum()\n",
        "\n",
        "    # Line 7 & 8: PyTorch prefers gradient descent\n",
        "    optimizer.zero_grad()\n",
        "    policy_loss.backward()\n",
        "    optimizer.step()"
      ]
    },
    {
      "cell_type": "markdown",
      "metadata": {
        "collapsed": false,
        "id": "x127Vwg8Q1s_"
      },
      "source": [
        "## Merge all functions into the reinforce method ##\n",
        "\n",
        "You will now see how the overall **Reinforce Algo** is structured by putting together all the building blocks (functions implemented in the previous parts) together, in the right order."
      ]
    },
    {
      "cell_type": "code",
      "execution_count": 12,
      "metadata": {
        "id": "_ukfJHcaQ1s_"
      },
      "outputs": [],
      "source": [
        "def reinforce(policy, optimizer, n_training_episodes, max_t, gamma, print_every):\n",
        "\n",
        "    # Help us to calculate the score during the training\n",
        "    scores_deque = deque(maxlen=100)\n",
        "    scores = []\n",
        "\n",
        "    for i_episode in range(1, n_training_episodes+1):\n",
        "\n",
        "        # Line 3 of pseudocode\n",
        "        saved_log_probs, rewards = generate_trajectory(policy, max_t)\n",
        "        scores_deque.append(sum(rewards))\n",
        "        scores.append(sum(rewards))\n",
        "\n",
        "        # Lines 4 & 5 of pseudocode: calculate the return\n",
        "        returns = computer_cumulative_reward(rewards, max_t, gamma)\n",
        "\n",
        "        ## standardization of the returns is employed to make training more stable\n",
        "        returns = returns_standardization(returns)\n",
        "\n",
        "        # Lines 6, 7 & 8\n",
        "        compute_loss_and_train_policy(optimizer, saved_log_probs, returns)\n",
        "\n",
        "        if i_episode % print_every == 0:\n",
        "            print('Episode {}\\tAverage Score: {:.2f}'.format(i_episode, np.mean(scores_deque)))\n",
        "\n",
        "    return scores"
      ]
    },
    {
      "cell_type": "markdown",
      "metadata": {
        "collapsed": false,
        "id": "feYaVqQBQ1tA"
      },
      "source": [
        "##  Train it\n",
        "- We're now ready to train our agent.\n",
        "- But first, we define a variable containing all the training hyperparameters.\n",
        "- You can change the training parameters (and should 😉)"
      ]
    },
    {
      "cell_type": "code",
      "execution_count": 13,
      "metadata": {
        "id": "3oWXmedoQ1tB"
      },
      "outputs": [],
      "source": [
        "cartpole_hyperparameters = {\n",
        "    \"h_size\": 64,\n",
        "    \"n_training_episodes\": 1500,\n",
        "    \"n_evaluation_episodes\": 10,\n",
        "    \"max_t\": 1000,\n",
        "    \"gamma\": 1.0,\n",
        "    \"lr\": 1e-2,\n",
        "    \"env_id\": env_id,\n",
        "    \"state_space\": s_size,\n",
        "    \"action_space\": a_size,\n",
        "}"
      ]
    },
    {
      "cell_type": "code",
      "execution_count": 14,
      "metadata": {
        "id": "VqLw7zrNQ1tB"
      },
      "outputs": [],
      "source": [
        "# Create policy and place it to the device\n",
        "cartpole_policy = Policy(cartpole_hyperparameters[\"state_space\"], cartpole_hyperparameters[\"action_space\"], cartpole_hyperparameters[\"h_size\"]).to(device)\n",
        "cartpole_optimizer = optim.Adam(cartpole_policy.parameters(), lr=cartpole_hyperparameters[\"lr\"])"
      ]
    },
    {
      "cell_type": "code",
      "execution_count": 15,
      "metadata": {
        "pycharm": {
          "is_executing": true
        },
        "id": "xpLE--ZTQ1tB",
        "outputId": "df8c9429-c573-4830-f867-8066efdfb44e",
        "colab": {
          "base_uri": "https://localhost:8080/"
        }
      },
      "outputs": [
        {
          "output_type": "stream",
          "name": "stdout",
          "text": [
            "Episode 100\tAverage Score: 123.32\n",
            "Episode 200\tAverage Score: 373.50\n",
            "Episode 300\tAverage Score: 211.99\n",
            "Episode 400\tAverage Score: 139.68\n",
            "Episode 500\tAverage Score: 181.59\n",
            "Episode 600\tAverage Score: 165.12\n",
            "Episode 700\tAverage Score: 433.07\n",
            "Episode 800\tAverage Score: 968.41\n",
            "Episode 900\tAverage Score: 235.81\n",
            "Episode 1000\tAverage Score: 413.90\n",
            "Episode 1100\tAverage Score: 854.74\n",
            "Episode 1200\tAverage Score: 635.30\n",
            "Episode 1300\tAverage Score: 1000.00\n",
            "Episode 1400\tAverage Score: 1000.00\n",
            "Episode 1500\tAverage Score: 1000.00\n"
          ]
        }
      ],
      "source": [
        "scores = reinforce(cartpole_policy,\n",
        "                   cartpole_optimizer,\n",
        "                   cartpole_hyperparameters[\"n_training_episodes\"],\n",
        "                   cartpole_hyperparameters[\"max_t\"],\n",
        "                   cartpole_hyperparameters[\"gamma\"],\n",
        "                   100)"
      ]
    },
    {
      "cell_type": "code",
      "execution_count": 16,
      "metadata": {
        "pycharm": {
          "is_executing": true
        },
        "id": "VYElgPueQ1tC",
        "outputId": "64706a60-8ae8-4d30-ac6a-483ad77fb33e",
        "colab": {
          "base_uri": "https://localhost:8080/",
          "height": 335
        }
      },
      "outputs": [
        {
          "output_type": "execute_result",
          "data": {
            "text/plain": [
              "count    1500.000000\n",
              "mean      515.762000\n",
              "std       405.004974\n",
              "min         8.000000\n",
              "25%       144.750000\n",
              "50%       313.500000\n",
              "75%      1000.000000\n",
              "max      1000.000000\n",
              "Name: scores_REINFORCE, dtype: float64"
            ],
            "text/html": [
              "<div>\n",
              "<style scoped>\n",
              "    .dataframe tbody tr th:only-of-type {\n",
              "        vertical-align: middle;\n",
              "    }\n",
              "\n",
              "    .dataframe tbody tr th {\n",
              "        vertical-align: top;\n",
              "    }\n",
              "\n",
              "    .dataframe thead th {\n",
              "        text-align: right;\n",
              "    }\n",
              "</style>\n",
              "<table border=\"1\" class=\"dataframe\">\n",
              "  <thead>\n",
              "    <tr style=\"text-align: right;\">\n",
              "      <th></th>\n",
              "      <th>scores_REINFORCE</th>\n",
              "    </tr>\n",
              "  </thead>\n",
              "  <tbody>\n",
              "    <tr>\n",
              "      <th>count</th>\n",
              "      <td>1500.000000</td>\n",
              "    </tr>\n",
              "    <tr>\n",
              "      <th>mean</th>\n",
              "      <td>515.762000</td>\n",
              "    </tr>\n",
              "    <tr>\n",
              "      <th>std</th>\n",
              "      <td>405.004974</td>\n",
              "    </tr>\n",
              "    <tr>\n",
              "      <th>min</th>\n",
              "      <td>8.000000</td>\n",
              "    </tr>\n",
              "    <tr>\n",
              "      <th>25%</th>\n",
              "      <td>144.750000</td>\n",
              "    </tr>\n",
              "    <tr>\n",
              "      <th>50%</th>\n",
              "      <td>313.500000</td>\n",
              "    </tr>\n",
              "    <tr>\n",
              "      <th>75%</th>\n",
              "      <td>1000.000000</td>\n",
              "    </tr>\n",
              "    <tr>\n",
              "      <th>max</th>\n",
              "      <td>1000.000000</td>\n",
              "    </tr>\n",
              "  </tbody>\n",
              "</table>\n",
              "</div><br><label><b>dtype:</b> float64</label>"
            ]
          },
          "metadata": {},
          "execution_count": 16
        }
      ],
      "source": [
        "scores= pd.Series(scores, name=\"scores_REINFORCE\")\n",
        "scores.describe()"
      ]
    },
    {
      "cell_type": "code",
      "execution_count": 17,
      "metadata": {
        "pycharm": {
          "is_executing": true
        },
        "id": "b9KaCCQHQ1tD",
        "outputId": "337af08f-f80c-4443-efc9-8f64e5a279c7",
        "colab": {
          "base_uri": "https://localhost:8080/",
          "height": 449
        }
      },
      "outputs": [
        {
          "output_type": "display_data",
          "data": {
            "text/plain": [
              "<Figure size 640x480 with 1 Axes>"
            ],
            "image/png": "[encoded data removed]"
          },
          "metadata": {}
        }
      ],
      "source": [
        "fig, ax = plt.subplots(1, 1)\n",
        "_ = scores.plot(ax=ax, label=\"scores_REINFORCE\")\n",
        "_ = (scores.rolling(window=100)\n",
        "           .mean()\n",
        "           .rename(\"Rolling Average\")\n",
        "           .plot(ax=ax))\n",
        "ax.legend()\n",
        "_ = ax.set_xlabel(\"Episode Number\")\n",
        "_ = ax.set_ylabel(\"scores_REINFORCE\")"
      ]
    },
    {
      "cell_type": "code",
      "source": [
        "torch.save(cartpole_policy.state_dict(), \"cartpole_policy.pth\")"
      ],
      "metadata": {
        "id": "9gTWNtuMRQXq"
      },
      "execution_count": 18,
      "outputs": []
    },
    {
      "cell_type": "code",
      "source": [
        "def record_video(\n",
        "    env : gym.Env,\n",
        "    policy_name : str,\n",
        "    filename : str,\n",
        "    fps : int = 30\n",
        ") -> None:\n",
        "\n",
        "    policy = Policy(cartpole_hyperparameters[\"state_space\"], cartpole_hyperparameters[\"action_space\"], cartpole_hyperparameters[\"h_size\"]).to(device).eval()\n",
        "    print(policy.load_state_dict(torch.load(policy_name)))\n",
        "\n",
        "    with imageio.get_writer(filename, fps=fps) as video:\n",
        "\n",
        "        state, _ = env.reset()\n",
        "        done = False\n",
        "\n",
        "        while not done:\n",
        "\n",
        "            action = policy.act_deterministic(state)\n",
        "            next_state, _, done, _, _ = env.step(action)\n",
        "            video.append_data(env.render())\n",
        "            state = next_state"
      ],
      "metadata": {
        "id": "sUyBDqrURR34"
      },
      "execution_count": 22,
      "outputs": []
    },
    {
      "cell_type": "code",
      "source": [
        "record_video(\n",
        "    env = gym.make(env_id, render_mode=\"rgb_array\"),\n",
        "    policy_name=\"cartpole_policy.pth\",\n",
        "    filename=\"demo-cartpool.mp4\",\n",
        "    fps=30\n",
        ")"
      ],
      "metadata": {
        "id": "-as9o3GJRTcw",
        "outputId": "234d682d-5b88-446a-a790-29f8be98c5cf",
        "colab": {
          "base_uri": "https://localhost:8080/"
        }
      },
      "execution_count": 23,
      "outputs": [
        {
          "output_type": "stream",
          "name": "stderr",
          "text": [
            "<ipython-input-22-48306fa520e9>:9: FutureWarning: You are using `torch.load` with `weights_only=False` (the current default value), which uses the default pickle module implicitly. It is possible to construct malicious pickle data which will execute arbitrary code during unpickling (See https://github.com/pytorch/pytorch/blob/main/SECURITY.md#untrusted-models for more details). In a future release, the default value for `weights_only` will be flipped to `True`. This limits the functions that could be executed during unpickling. Arbitrary objects will no longer be allowed to be loaded via this mode unless they are explicitly allowlisted by the user via `torch.serialization.add_safe_globals`. We recommend you start setting `weights_only=True` for any use case where you don't have full control of the loaded file. Please open an issue on GitHub for any issues related to this experimental feature.\n",
            "  print(policy.load_state_dict(torch.load(policy_name)))\n"
          ]
        },
        {
          "output_type": "stream",
          "name": "stdout",
          "text": [
            "<All keys matched successfully>\n"
          ]
        },
        {
          "output_type": "stream",
          "name": "stderr",
          "text": [
            "WARNING:imageio_ffmpeg:IMAGEIO FFMPEG_WRITER WARNING: input image is not divisible by macro_block_size=16, resizing from (600, 400) to (608, 400) to ensure video compatibility with most codecs and players. To prevent resizing, make your input image divisible by the macro_block_size or set the macro_block_size to 1 (risking incompatibility).\n"
          ]
        }
      ]
    },
    {
      "cell_type": "code",
      "source": [
        "Video(\"demo-cartpool.mp4\")"
      ],
      "metadata": {
        "id": "BVZFSnBbRVWK",
        "outputId": "cb7dbc78-52c6-42d3-9a5e-e91a3eb0c82b",
        "colab": {
          "base_uri": "https://localhost:8080/",
          "height": 171
        }
      },
      "execution_count": 24,
      "outputs": [
        {
          "output_type": "execute_result",
          "data": {
            "text/plain": [
              "<IPython.core.display.Video object>"
            ],
            "text/html": [
              "<video src=\"demo-cartpool.mp4\" controls  >\n",
              "      Your browser does not support the <code>video</code> element.\n",
              "    </video>"
            ]
          },
          "metadata": {},
          "execution_count": 24
        }
      ]
    }
  ],
  "metadata": {
    "kernelspec": {
      "display_name": "Python 3",
      "name": "python3"
    },
    "language_info": {
      "codemirror_mode": {
        "name": "ipython",
        "version": 2
      },
      "file_extension": ".py",
      "mimetype": "text/x-python",
      "name": "python",
      "nbconvert_exporter": "python",
      "pygments_lexer": "ipython2",
      "version": "2.7.6"
    },
    "colab": {
      "provenance": [],
      "gpuType": "T4",
      "include_colab_link": true
    },
    "accelerator": "GPU"
  },
  "nbformat": 4,
  "nbformat_minor": 0
}