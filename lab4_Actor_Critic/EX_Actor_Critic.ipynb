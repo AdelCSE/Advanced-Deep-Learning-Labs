{
  "cells": [
    {
      "cell_type": "markdown",
      "metadata": {
        "collapsed": false,
        "id": "Dtymc8CWWwb-"
      },
      "source": [
        "# Actor-Critic Algorithm\n",
        "In this notebook, you'll code The Actor-Critic Algorithm from scratch: .\n",
        "\n",
        "Actor-Critic algorithm is a *Policy-based method* that aims to reduce the variance of the Reinforce algorithm and train our agent faster and better by using a combination of Policy-Based and Value-Based methods\n",
        "\n",
        "\n",
        "To test its robustness, we're going to train it in Cartpole-v1 environment"
      ]
    },
    {
      "cell_type": "markdown",
      "metadata": {
        "collapsed": false,
        "id": "8QeVLi6-WwcN"
      },
      "source": [
        "## Import the packages"
      ]
    },
    {
      "cell_type": "code",
      "execution_count": 1,
      "metadata": {
        "id": "MIacXwWTWwcQ",
        "outputId": "c9c1606b-376b-49e7-9546-bb3f9b229b8b",
        "colab": {
          "base_uri": "https://localhost:8080/"
        }
      },
      "outputs": [
        {
          "output_type": "stream",
          "name": "stdout",
          "text": [
            "Collecting swig\n",
            "  Downloading swig-4.3.0-py2.py3-none-manylinux_2_5_x86_64.manylinux1_x86_64.whl.metadata (3.5 kB)\n",
            "Downloading swig-4.3.0-py2.py3-none-manylinux_2_5_x86_64.manylinux1_x86_64.whl (1.9 MB)\n",
            "\u001b[?25l   \u001b[90m━━━━━━━━━━━━━━━━━━━━━━━━━━━━━━━━━━━━━━━━\u001b[0m \u001b[32m0.0/1.9 MB\u001b[0m \u001b[31m?\u001b[0m eta \u001b[36m-:--:--\u001b[0m\r\u001b[2K   \u001b[91m━━━━━━━━━━━━━━━━━━━━━━━━━━━━━━━━━━━━━━━\u001b[0m\u001b[91m╸\u001b[0m \u001b[32m1.9/1.9 MB\u001b[0m \u001b[31m62.4 MB/s\u001b[0m eta \u001b[36m0:00:01\u001b[0m\r\u001b[2K   \u001b[90m━━━━━━━━━━━━━━━━━━━━━━━━━━━━━━━━━━━━━━━━\u001b[0m \u001b[32m1.9/1.9 MB\u001b[0m \u001b[31m39.6 MB/s\u001b[0m eta \u001b[36m0:00:00\u001b[0m\n",
            "\u001b[?25hInstalling collected packages: swig\n",
            "Successfully installed swig-4.3.0\n",
            "Collecting gymnasium[box2d]\n",
            "  Downloading gymnasium-1.0.0-py3-none-any.whl.metadata (9.5 kB)\n",
            "Requirement already satisfied: numpy>=1.21.0 in /usr/local/lib/python3.10/dist-packages (from gymnasium[box2d]) (1.26.4)\n",
            "Requirement already satisfied: cloudpickle>=1.2.0 in /usr/local/lib/python3.10/dist-packages (from gymnasium[box2d]) (3.1.0)\n",
            "Requirement already satisfied: typing-extensions>=4.3.0 in /usr/local/lib/python3.10/dist-packages (from gymnasium[box2d]) (4.12.2)\n",
            "Collecting farama-notifications>=0.0.1 (from gymnasium[box2d])\n",
            "  Downloading Farama_Notifications-0.0.4-py3-none-any.whl.metadata (558 bytes)\n",
            "Collecting box2d-py==2.3.5 (from gymnasium[box2d])\n",
            "  Downloading box2d-py-2.3.5.tar.gz (374 kB)\n",
            "\u001b[2K     \u001b[90m━━━━━━━━━━━━━━━━━━━━━━━━━━━━━━━━━━━━━━━━\u001b[0m \u001b[32m374.4/374.4 kB\u001b[0m \u001b[31m8.4 MB/s\u001b[0m eta \u001b[36m0:00:00\u001b[0m\n",
            "\u001b[?25h  Preparing metadata (setup.py) ... \u001b[?25l\u001b[?25hdone\n",
            "Requirement already satisfied: pygame>=2.1.3 in /usr/local/lib/python3.10/dist-packages (from gymnasium[box2d]) (2.6.1)\n",
            "Requirement already satisfied: swig==4.* in /usr/local/lib/python3.10/dist-packages (from gymnasium[box2d]) (4.3.0)\n",
            "Downloading Farama_Notifications-0.0.4-py3-none-any.whl (2.5 kB)\n",
            "Downloading gymnasium-1.0.0-py3-none-any.whl (958 kB)\n",
            "\u001b[2K   \u001b[90m━━━━━━━━━━━━━━━━━━━━━━━━━━━━━━━━━━━━━━━━\u001b[0m \u001b[32m958.1/958.1 kB\u001b[0m \u001b[31m42.4 MB/s\u001b[0m eta \u001b[36m0:00:00\u001b[0m\n",
            "\u001b[?25hBuilding wheels for collected packages: box2d-py\n",
            "  Building wheel for box2d-py (setup.py) ... \u001b[?25l\u001b[?25hdone\n",
            "  Created wheel for box2d-py: filename=box2d_py-2.3.5-cp310-cp310-linux_x86_64.whl size=2376419 sha256=6fdb11aa9d1ad91cceece27979a1d6336a20d17ac89fd815ea8c7bd17b5b8f4c\n",
            "  Stored in directory: /root/.cache/pip/wheels/db/8f/6a/eaaadf056fba10a98d986f6dce954e6201ba3126926fc5ad9e\n",
            "Successfully built box2d-py\n",
            "Installing collected packages: farama-notifications, box2d-py, gymnasium\n",
            "Successfully installed box2d-py-2.3.5 farama-notifications-0.0.4 gymnasium-1.0.0\n",
            "Requirement already satisfied: gymnasium in /usr/local/lib/python3.10/dist-packages (1.0.0)\n",
            "Requirement already satisfied: numpy>=1.21.0 in /usr/local/lib/python3.10/dist-packages (from gymnasium) (1.26.4)\n",
            "Requirement already satisfied: cloudpickle>=1.2.0 in /usr/local/lib/python3.10/dist-packages (from gymnasium) (3.1.0)\n",
            "Requirement already satisfied: typing-extensions>=4.3.0 in /usr/local/lib/python3.10/dist-packages (from gymnasium) (4.12.2)\n",
            "Requirement already satisfied: farama-notifications>=0.0.1 in /usr/local/lib/python3.10/dist-packages (from gymnasium) (0.0.4)\n"
          ]
        }
      ],
      "source": [
        "!pip install swig\n",
        "!pip install gymnasium[box2d]\n",
        "!pip install gymnasium"
      ]
    },
    {
      "cell_type": "code",
      "execution_count": 33,
      "metadata": {
        "id": "HFcOby8ZWwcT"
      },
      "outputs": [],
      "source": [
        "import numpy as np\n",
        "import pandas as pd\n",
        "from collections import deque\n",
        "import matplotlib.pyplot as plt\n",
        "import imageio\n",
        "\n",
        "# PyTorch\n",
        "import torch\n",
        "import torch.nn as nn\n",
        "import torch.nn.functional as F\n",
        "import torch.optim as optim\n",
        "from torch.distributions import Categorical\n",
        "from IPython.display import Video\n",
        "\n",
        "# Gym\n",
        "import gymnasium as gym"
      ]
    },
    {
      "cell_type": "markdown",
      "metadata": {
        "collapsed": false,
        "id": "mfGwXL4BWwcW"
      },
      "source": [
        "## Check if we have a GPU\n",
        "- Let's check if we have a GPU `device:cuda0`"
      ]
    },
    {
      "cell_type": "code",
      "execution_count": 3,
      "metadata": {
        "id": "YKumVf1BWwcW"
      },
      "outputs": [],
      "source": [
        "device = torch.device(\"cuda:0\" if torch.cuda.is_available() else \"cpu\")"
      ]
    },
    {
      "cell_type": "markdown",
      "metadata": {
        "collapsed": false,
        "id": "hDucM4YKWwcY"
      },
      "source": [
        "# Agent: Playing CartPole-v1 🤖\n",
        "### The CartPole-v1 environment\n",
        "\n",
        "> A pole is attached by an un-actuated joint to a cart, which moves along a frictionless track. The pendulum is placed upright on the cart and the goal is to balance the pole by applying forces in the left and right direction on the cart.\n",
        "\n",
        "So, we start with CartPole-v1. The goal is to push the cart left or right **so that the pole stays in the equilibrium.**\n",
        "\n",
        "The episode ends if:\n",
        "- The pole Angle is greater than ±12°\n",
        "- Cart Position is greater than ±2.4\n",
        "- Episode length is greater than 500\n",
        "\n",
        "We get a reward 💰 of +1 every timestep the Pole stays in the equilibrium."
      ]
    },
    {
      "cell_type": "code",
      "execution_count": 4,
      "metadata": {
        "id": "LcLcSsfHWwca"
      },
      "outputs": [],
      "source": [
        "env_id = \"CartPole-v1\"\n",
        "#env_id=\"LunarLander-v2\"\n",
        "# Create the env\n",
        "env = gym.make(env_id)\n",
        "\n",
        "# Get the state space and action space\n",
        "s_size = env.observation_space.shape[0]\n",
        "a_size = env.action_space.n"
      ]
    },
    {
      "cell_type": "markdown",
      "metadata": {
        "collapsed": false,
        "id": "b21pv0hKWwcc"
      },
      "source": [
        "## Let's build the A2C algo\n"
      ]
    },
    {
      "cell_type": "code",
      "execution_count": 35,
      "metadata": {
        "id": "-aKjIpWQWwcf"
      },
      "outputs": [],
      "source": [
        "#Using a neural network to learn our actor (policy) parameters\n",
        "\n",
        "class Actor(nn.Module):\n",
        "    def __init__(self, s_size, a_size, h_size):\n",
        "        super(Actor, self).__init__()\n",
        "        self.fc1 = nn.Linear(s_size, h_size)\n",
        "        self.fc2 = nn.Linear(h_size, a_size)\n",
        "\n",
        "    def forward(self, x):\n",
        "        x = F.relu(self.fc1(x))\n",
        "        x = self.fc2(x)\n",
        "        return F.softmax(x, dim=1)\n",
        "\n",
        "    def act(self, state):\n",
        "\n",
        "        probs = self.forward(state)\n",
        "        m = Categorical(probs)\n",
        "        action = m.sample()\n",
        "        return action.item(), m.log_prob(action)\n",
        "\n",
        "    def act_deterministic(self, state):\n",
        "        state = torch.tensor(state).float().unsqueeze(0).to(device)\n",
        "        probs = self.forward(state).cpu()\n",
        "        action = torch.argmax(probs)\n",
        "        return action.item()"
      ]
    },
    {
      "cell_type": "code",
      "execution_count": 8,
      "metadata": {
        "id": "rFAX7ZfGWwcg"
      },
      "outputs": [],
      "source": [
        "#Using a neural network to learn state value\n",
        "class Critic(nn.Module):\n",
        "\n",
        "    #Takes in state\n",
        "    def __init__(self, s_size, h_size):\n",
        "        super(Critic, self).__init__()\n",
        "\n",
        "        self.input_layer = nn.Linear(s_size, h_size)\n",
        "        self.output_layer = nn.Linear(h_size, 1)\n",
        "\n",
        "    def forward(self, x):\n",
        "\n",
        "        x = self.input_layer(x)\n",
        "        x = F.relu(x)\n",
        "        state_value = self.output_layer(x)\n",
        "\n",
        "        return state_value\n"
      ]
    },
    {
      "cell_type": "markdown",
      "metadata": {
        "collapsed": false,
        "id": "bOTI1tIsWwci"
      },
      "source": [
        "# Building the parts of our algorithm #\n",
        "The main steps for building a A2C Algo are:\n",
        "1. Generates a trajectory\n",
        "2. Compute the discounted returns\n",
        "3. Standardization of the returns\n",
        "4. Train critic network\n",
        "5. Train actor network\n",
        "\n"
      ]
    },
    {
      "cell_type": "code",
      "execution_count": 21,
      "metadata": {
        "id": "15hAX7IDWwcj"
      },
      "outputs": [],
      "source": [
        "def generate_trajectory(actor, critic, max_t):\n",
        "\n",
        "      saved_log_probs = []\n",
        "      rewards = []\n",
        "      state_values= []\n",
        "\n",
        "      state, _ = env.reset()\n",
        "\n",
        "      for t in range(max_t):\n",
        "\n",
        "          state=torch.from_numpy(state).float().unsqueeze(0).to(device)\n",
        "\n",
        "          action, log_prob = actor.act(state)\n",
        "\n",
        "          # get the state value from th critic network\n",
        "          state_val = critic(state)\n",
        "\n",
        "          next_state, reward, done, _, _ = env.step(action)\n",
        "\n",
        "          # add te obtained results to their relative lists ==> saved_log_probs, rewards, state_values\n",
        "\n",
        "          saved_log_probs.append(log_prob)\n",
        "          rewards.append(reward)\n",
        "          state_values.append(state_val)\n",
        "\n",
        "          state=next_state\n",
        "\n",
        "          if done:\n",
        "              break\n",
        "\n",
        "      return  saved_log_probs, rewards, state_values"
      ]
    },
    {
      "cell_type": "code",
      "execution_count": 22,
      "metadata": {
        "id": "5kmWAJDVWwcj"
      },
      "outputs": [],
      "source": [
        "def computer_cumulative_reward(rewards, max_t,gamma):\n",
        "\n",
        "      returns = deque(maxlen=max_t)\n",
        "      n_steps = len(rewards)\n",
        "\n",
        "      for t in range(n_steps)[::-1]:\n",
        "\n",
        "          disc_return_t = (returns[0] if len(returns)>0 else 0)\n",
        "          returns.appendleft( rewards[t]+gamma*disc_return_t)\n",
        "\n",
        "      return returns"
      ]
    },
    {
      "cell_type": "code",
      "execution_count": 23,
      "metadata": {
        "id": "3C_lcxX_Wwck"
      },
      "outputs": [],
      "source": [
        "def returns_standardization(returns):\n",
        "\n",
        "        eps = np.finfo(np.float32).eps.item()\n",
        "        returns = torch.tensor(returns).to(device)\n",
        "        returns = (returns - returns.mean()) / (returns.std() + eps)\n",
        "\n",
        "        return returns"
      ]
    },
    {
      "cell_type": "code",
      "execution_count": 24,
      "metadata": {
        "id": "OMlH6UtIWwck"
      },
      "outputs": [],
      "source": [
        "\n",
        "def train_actor(actorOptimizer, saved_log_probs, returns,state_values):\n",
        "\n",
        "        state_values= torch.stack(state_values).squeeze()\n",
        "\n",
        "        #calculate Advantage for actor\n",
        "        advantages = returns - state_values\n",
        "\n",
        "        #convect the advantages to a tensor\n",
        "        advantages = torch.tensor(advantages).to(device)\n",
        "\n",
        "        actor_loss = []\n",
        "        # compute the actor loss\n",
        "        for log_prob, advantage in zip(saved_log_probs, advantages):\n",
        "            actor_loss.append(-log_prob * advantage)\n",
        "\n",
        "\n",
        "        actor_loss = torch.cat(actor_loss).sum()\n",
        "        # Backpropagate actor\n",
        "        actorOptimizer.zero_grad()\n",
        "        actor_loss.backward()\n",
        "        actorOptimizer.step()"
      ]
    },
    {
      "cell_type": "code",
      "execution_count": 25,
      "metadata": {
        "id": "I6ybiGPVWwcm"
      },
      "outputs": [],
      "source": [
        "def train_critic(criticOptimizer, returns,state_values):\n",
        "        state_values= torch.stack(state_values).squeeze()\n",
        "\n",
        "        critic_loss = F.mse_loss(state_values, returns)\n",
        "\n",
        "        # Backpropagate crtic\n",
        "        criticOptimizer.zero_grad()\n",
        "        critic_loss.backward()\n",
        "        criticOptimizer.step()\n"
      ]
    },
    {
      "cell_type": "markdown",
      "metadata": {
        "collapsed": false,
        "id": "Bs-xo9v3Wwcn"
      },
      "source": [
        "## Merge all functions into the Actor_Critic method ##\n",
        "\n",
        "You will now see how the overall **A2C Algo** is structured by putting together all the building blocks (functions implemented in the previous parts) together, in the right order."
      ]
    },
    {
      "cell_type": "code",
      "execution_count": 26,
      "metadata": {
        "id": "skSDnH54Wwcn"
      },
      "outputs": [],
      "source": [
        "def Actor_Critic(actor,critic, actorOptimizer,criticOptimizer, n_training_episodes, max_t, gamma, print_every):\n",
        "    # Help us to calculate the score during the training\n",
        "    scores_deque = deque(maxlen=100)\n",
        "    scores = []\n",
        "\n",
        "    for i_episode in range(1, n_training_episodes+1):\n",
        "\n",
        "        # Generate an episode\n",
        "        saved_log_probs, rewards, state_values = generate_trajectory(actor, critic, max_t)\n",
        "\n",
        "        # Compute the total reward\n",
        "        scores_deque.append(sum(rewards))\n",
        "        scores.append(sum(rewards))\n",
        "\n",
        "        # calculate the return\n",
        "        returns= computer_cumulative_reward(rewards,max_t,gamma)\n",
        "\n",
        "        ## standardization of the returns is employed to make training more stable\n",
        "        returns=returns_standardization(returns)\n",
        "\n",
        "        # Train the Critic network\n",
        "        train_critic(criticOptimizer,returns,state_values)\n",
        "\n",
        "        # Train the Actor network\n",
        "        train_actor(actorOptimizer, saved_log_probs, returns,state_values)\n",
        "\n",
        "        if i_episode % print_every == 0:\n",
        "            print('Episode {}\\tAverage Score: {:.2f}'.format(i_episode, np.mean(scores_deque)))\n",
        "\n",
        "    return scores"
      ]
    },
    {
      "cell_type": "markdown",
      "metadata": {
        "collapsed": false,
        "id": "ntcaW9wdWwco"
      },
      "source": [
        "##  Train it\n",
        "- We're now ready to train our agent.\n",
        "- But first, we define a variable containing all the training hyperparameters.\n",
        "- You can change the training parameters (and should 😉)"
      ]
    },
    {
      "cell_type": "code",
      "execution_count": 27,
      "metadata": {
        "id": "6DQ6liFsWwcp"
      },
      "outputs": [],
      "source": [
        "cartpole_hyperparameters = {\n",
        "    \"h_size\": 64,\n",
        "    \"n_training_episodes\": 1000,\n",
        "    \"n_evaluation_episodes\": 10,\n",
        "    \"max_t\": 1000,\n",
        "    \"gamma\": 1.0,\n",
        "    \"lr\": 1e-2,\n",
        "    \"env_id\": env_id,\n",
        "    \"state_space\": s_size,\n",
        "    \"action_space\": a_size,\n",
        "}"
      ]
    },
    {
      "cell_type": "code",
      "execution_count": 28,
      "metadata": {
        "id": "UIsLfZ5tWwcp"
      },
      "outputs": [],
      "source": [
        "# Create actor and place it to the device\n",
        "cartpole_actor = Actor(cartpole_hyperparameters[\"state_space\"],\n",
        "                       cartpole_hyperparameters[\"action_space\"],\n",
        "                       cartpole_hyperparameters[\"h_size\"]).to(device)\n",
        "\n",
        "cartpole_actorOptimizer = optim.Adam(cartpole_actor.parameters(), lr=cartpole_hyperparameters[\"lr\"])"
      ]
    },
    {
      "cell_type": "code",
      "execution_count": 29,
      "metadata": {
        "id": "aDu7mKANWwcq"
      },
      "outputs": [],
      "source": [
        "# Create critic and place it to the device\n",
        "cartpole_critic = Critic(cartpole_hyperparameters[\"state_space\"],\n",
        "                         cartpole_hyperparameters[\"h_size\"]).to(device)\n",
        "\n",
        "cartpole_criticOptimizer = optim.Adam(cartpole_critic.parameters(), lr=cartpole_hyperparameters[\"lr\"])"
      ]
    },
    {
      "cell_type": "code",
      "execution_count": 30,
      "metadata": {
        "pycharm": {
          "is_executing": true
        },
        "id": "YJh_k4ewWwcq",
        "outputId": "18933942-f103-4b0e-ac04-80803d4b093b",
        "colab": {
          "base_uri": "https://localhost:8080/"
        }
      },
      "outputs": [
        {
          "output_type": "stream",
          "name": "stderr",
          "text": [
            "<ipython-input-24-923cd9d2332a>:9: UserWarning: To copy construct from a tensor, it is recommended to use sourceTensor.clone().detach() or sourceTensor.clone().detach().requires_grad_(True), rather than torch.tensor(sourceTensor).\n",
            "  advantages = torch.tensor(advantages).to(device)\n"
          ]
        },
        {
          "output_type": "stream",
          "name": "stdout",
          "text": [
            "Episode 100\tAverage Score: 180.51\n",
            "Episode 200\tAverage Score: 783.35\n",
            "Episode 300\tAverage Score: 396.85\n",
            "Episode 400\tAverage Score: 265.19\n",
            "Episode 500\tAverage Score: 984.83\n",
            "Episode 600\tAverage Score: 1000.00\n",
            "Episode 700\tAverage Score: 912.03\n",
            "Episode 800\tAverage Score: 761.23\n",
            "Episode 900\tAverage Score: 129.90\n",
            "Episode 1000\tAverage Score: 201.98\n"
          ]
        }
      ],
      "source": [
        "scores = Actor_Critic(cartpole_actor,\n",
        "                   cartpole_critic,cartpole_actorOptimizer,cartpole_criticOptimizer,\n",
        "                   cartpole_hyperparameters[\"n_training_episodes\"],\n",
        "                   cartpole_hyperparameters[\"max_t\"],\n",
        "                   cartpole_hyperparameters[\"gamma\"],\n",
        "                   100)"
      ]
    },
    {
      "cell_type": "code",
      "execution_count": 31,
      "metadata": {
        "pycharm": {
          "is_executing": true
        },
        "id": "PnijoYspWwcq",
        "outputId": "76727fb6-962d-4bbe-b67a-4b6acf51f6b4",
        "colab": {
          "base_uri": "https://localhost:8080/",
          "height": 335
        }
      },
      "outputs": [
        {
          "output_type": "execute_result",
          "data": {
            "text/plain": [
              "count    1000.000000\n",
              "mean      561.587000\n",
              "std       420.850025\n",
              "min         8.000000\n",
              "25%       154.000000\n",
              "50%       409.500000\n",
              "75%      1000.000000\n",
              "max      1000.000000\n",
              "Name: scores_Actor, dtype: float64"
            ],
            "text/html": [
              "<div>\n",
              "<style scoped>\n",
              "    .dataframe tbody tr th:only-of-type {\n",
              "        vertical-align: middle;\n",
              "    }\n",
              "\n",
              "    .dataframe tbody tr th {\n",
              "        vertical-align: top;\n",
              "    }\n",
              "\n",
              "    .dataframe thead th {\n",
              "        text-align: right;\n",
              "    }\n",
              "</style>\n",
              "<table border=\"1\" class=\"dataframe\">\n",
              "  <thead>\n",
              "    <tr style=\"text-align: right;\">\n",
              "      <th></th>\n",
              "      <th>scores_Actor</th>\n",
              "    </tr>\n",
              "  </thead>\n",
              "  <tbody>\n",
              "    <tr>\n",
              "      <th>count</th>\n",
              "      <td>1000.000000</td>\n",
              "    </tr>\n",
              "    <tr>\n",
              "      <th>mean</th>\n",
              "      <td>561.587000</td>\n",
              "    </tr>\n",
              "    <tr>\n",
              "      <th>std</th>\n",
              "      <td>420.850025</td>\n",
              "    </tr>\n",
              "    <tr>\n",
              "      <th>min</th>\n",
              "      <td>8.000000</td>\n",
              "    </tr>\n",
              "    <tr>\n",
              "      <th>25%</th>\n",
              "      <td>154.000000</td>\n",
              "    </tr>\n",
              "    <tr>\n",
              "      <th>50%</th>\n",
              "      <td>409.500000</td>\n",
              "    </tr>\n",
              "    <tr>\n",
              "      <th>75%</th>\n",
              "      <td>1000.000000</td>\n",
              "    </tr>\n",
              "    <tr>\n",
              "      <th>max</th>\n",
              "      <td>1000.000000</td>\n",
              "    </tr>\n",
              "  </tbody>\n",
              "</table>\n",
              "</div><br><label><b>dtype:</b> float64</label>"
            ]
          },
          "metadata": {},
          "execution_count": 31
        }
      ],
      "source": [
        "scores= pd.Series(scores, name=\"scores_Actor\")\n",
        "scores.describe()"
      ]
    },
    {
      "cell_type": "code",
      "execution_count": 32,
      "metadata": {
        "pycharm": {
          "is_executing": true
        },
        "id": "CELFPD1mWwcr",
        "outputId": "c28389f2-554b-4dae-aef6-d336fb3b795d",
        "colab": {
          "base_uri": "https://localhost:8080/",
          "height": 449
        }
      },
      "outputs": [
        {
          "output_type": "display_data",
          "data": {
            "text/plain": [
              "<Figure size 640x480 with 1 Axes>"
            ],
            "image/png": "[encoded data removed]"
          },
          "metadata": {}
        }
      ],
      "source": [
        "fig, ax = plt.subplots(1, 1)\n",
        "_ = scores.plot(ax=ax, label=\"scores_Actor\")\n",
        "_ = (scores.rolling(window=100)\n",
        "           .mean()\n",
        "           .rename(\"Rolling Average\")\n",
        "           .plot(ax=ax))\n",
        "ax.legend()\n",
        "_ = ax.set_xlabel(\"Episode Number\")\n",
        "_ = ax.set_ylabel(\"scores_Actor\")"
      ]
    },
    {
      "cell_type": "code",
      "source": [
        "torch.save(cartpole_actor.state_dict(), \"cartpole_actor.pth\")\n",
        "torch.save(cartpole_critic.state_dict(), \"cartpole_critic.pth\")"
      ],
      "metadata": {
        "id": "obVxgdvWhuL6"
      },
      "execution_count": 34,
      "outputs": []
    },
    {
      "cell_type": "code",
      "execution_count": 36,
      "metadata": {
        "pycharm": {
          "is_executing": true
        },
        "id": "XCAMEcfdWwcs"
      },
      "outputs": [],
      "source": [
        "def record_video(\n",
        "    env : gym.Env,\n",
        "    policy_name : str,\n",
        "    filename : str,\n",
        "    fps : int = 30\n",
        ") -> None:\n",
        "\n",
        "    policy = Actor(cartpole_hyperparameters[\"state_space\"], cartpole_hyperparameters[\"action_space\"], cartpole_hyperparameters[\"h_size\"]).to(device).eval()\n",
        "    print(policy.load_state_dict(torch.load(policy_name)))\n",
        "\n",
        "    with imageio.get_writer(filename, fps=fps) as video:\n",
        "\n",
        "        state, _ = env.reset()\n",
        "        done = False\n",
        "\n",
        "        while not done:\n",
        "\n",
        "            action = policy.act_deterministic(state)\n",
        "            next_state, _, done, _, _ = env.step(action)\n",
        "            video.append_data(env.render())\n",
        "            state = next_state"
      ]
    },
    {
      "cell_type": "code",
      "source": [
        "record_video(\n",
        "    env = gym.make(env_id, render_mode=\"rgb_array\"),\n",
        "    policy_name=\"cartpole_actor.pth\",\n",
        "    filename=\"demo-cartpool.mp4\",\n",
        "    fps=30\n",
        ")"
      ],
      "metadata": {
        "id": "yOZlBPk1kCwT",
        "outputId": "f1c23860-ecc7-4408-bdb7-2ba78c5d50ba",
        "colab": {
          "base_uri": "https://localhost:8080/"
        }
      },
      "execution_count": 38,
      "outputs": [
        {
          "output_type": "stream",
          "name": "stderr",
          "text": [
            "<ipython-input-36-d4a5e6bc92e3>:9: FutureWarning: You are using `torch.load` with `weights_only=False` (the current default value), which uses the default pickle module implicitly. It is possible to construct malicious pickle data which will execute arbitrary code during unpickling (See https://github.com/pytorch/pytorch/blob/main/SECURITY.md#untrusted-models for more details). In a future release, the default value for `weights_only` will be flipped to `True`. This limits the functions that could be executed during unpickling. Arbitrary objects will no longer be allowed to be loaded via this mode unless they are explicitly allowlisted by the user via `torch.serialization.add_safe_globals`. We recommend you start setting `weights_only=True` for any use case where you don't have full control of the loaded file. Please open an issue on GitHub for any issues related to this experimental feature.\n",
            "  print(policy.load_state_dict(torch.load(policy_name)))\n"
          ]
        },
        {
          "output_type": "stream",
          "name": "stdout",
          "text": [
            "<All keys matched successfully>\n"
          ]
        },
        {
          "output_type": "stream",
          "name": "stderr",
          "text": [
            "WARNING:imageio_ffmpeg:IMAGEIO FFMPEG_WRITER WARNING: input image is not divisible by macro_block_size=16, resizing from (600, 400) to (608, 400) to ensure video compatibility with most codecs and players. To prevent resizing, make your input image divisible by the macro_block_size or set the macro_block_size to 1 (risking incompatibility).\n"
          ]
        }
      ]
    },
    {
      "cell_type": "code",
      "source": [
        "Video(\"demo-cartpool.mp4\")"
      ],
      "metadata": {
        "id": "ea_uaVdOkHO5",
        "outputId": "8a14804c-99ad-423c-e774-85b7822d4576",
        "colab": {
          "base_uri": "https://localhost:8080/",
          "height": 171
        }
      },
      "execution_count": 39,
      "outputs": [
        {
          "output_type": "execute_result",
          "data": {
            "text/plain": [
              "<IPython.core.display.Video object>"
            ],
            "text/html": [
              "<video src=\"demo-cartpool.mp4\" controls  >\n",
              "      Your browser does not support the <code>video</code> element.\n",
              "    </video>"
            ]
          },
          "metadata": {},
          "execution_count": 39
        }
      ]
    },
    {
      "cell_type": "code",
      "source": [],
      "metadata": {
        "id": "L1Lsn4NzkNuq"
      },
      "execution_count": null,
      "outputs": []
    }
  ],
  "metadata": {
    "kernelspec": {
      "display_name": "Python 3",
      "name": "python3"
    },
    "language_info": {
      "codemirror_mode": {
        "name": "ipython",
        "version": 2
      },
      "file_extension": ".py",
      "mimetype": "text/x-python",
      "name": "python",
      "nbconvert_exporter": "python",
      "pygments_lexer": "ipython2",
      "version": "2.7.6"
    },
    "colab": {
      "provenance": [],
      "gpuType": "T4"
    },
    "accelerator": "GPU"
  },
  "nbformat": 4,
  "nbformat_minor": 0
}